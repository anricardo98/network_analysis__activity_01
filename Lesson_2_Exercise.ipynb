{
  "nbformat": 4,
  "nbformat_minor": 0,
  "metadata": {
    "colab": {
      "name": "Lesson_2_Exercise.ipynb",
      "provenance": []
    },
    "kernelspec": {
      "display_name": "Python 3",
      "language": "python",
      "name": "python3"
    },
    "language_info": {
      "codemirror_mode": {
        "name": "ipython",
        "version": 3
      },
      "file_extension": ".py",
      "mimetype": "text/x-python",
      "name": "python",
      "nbconvert_exporter": "python",
      "pygments_lexer": "ipython3",
      "version": "3.8.8"
    }
  },
  "cells": [
    {
      "cell_type": "markdown",
      "metadata": {
        "id": "YGoGFx3lWBbJ"
      },
      "source": [
        "Student Identification\n",
        "\n",
        "- Name Student: **Ivanovitch Silva** \n",
        "- Name Student: **André Ricardo Cândido Silva**"
      ]
    },
    {
      "cell_type": "markdown",
      "metadata": {
        "id": "0vUTEVI2SSAQ"
      },
      "source": [
        "# Exercise Q&A (1,00 point for grade in Unit 01)"
      ]
    },
    {
      "cell_type": "markdown",
      "metadata": {
        "id": "tG_xFopi_wpj"
      },
      "source": [
        "## Question 01"
      ]
    },
    {
      "cell_type": "markdown",
      "metadata": {
        "id": "rtVDKKTDGCND"
      },
      "source": [
        "Consider a network with *N* nodes. Given a single link, what is the maximum number of nodes that link can connect? Given a single node, what is the maximum number of links that can connect to that node?"
      ]
    },
    {
      "cell_type": "markdown",
      "metadata": {
        "id": "3n2EjOMmHMuI"
      },
      "source": [
        "Answer:A single link can connect with N nodes. And a single node can connect with N-1 links."
      ]
    },
    {
      "cell_type": "markdown",
      "metadata": {
        "id": "uQPRLZUXHRFc"
      },
      "source": [
        "## Question 02"
      ]
    },
    {
      "cell_type": "markdown",
      "metadata": {
        "id": "FnKLHki-Hay_"
      },
      "source": [
        "\n",
        "<center><img width=\"600\" src=\"https://drive.google.com/uc?export=view&id=1Y42-c3Pq1XoszEEvYsZFdr3GccAqp7l_\"></center>\n",
        "<center><b>Figure 1</b>: Map of New York in 1880. From Report on the Social Statistics of Cities, Compiled by George E. Waring, Jr., U.S. Census Office, 1886. Image courtesy of University of Texas Libraries. <br></center>\n",
        "\n",
        "\n",
        "Consider the road map in Figure 1. The grid-like structure of this network means that most nodes have the same degree. What is the most common degree for nodes in this network?\n",
        "\n"
      ]
    },
    {
      "cell_type": "markdown",
      "metadata": {
        "id": "DtBZnm2OHgaI"
      },
      "source": [
        "Answer:"
      ]
    },
    {
      "cell_type": "markdown",
      "metadata": {
        "id": "pyOgImYmJsh3"
      },
      "source": [
        "## Question 03"
      ]
    },
    {
      "cell_type": "markdown",
      "metadata": {
        "id": "17qGjrMHJvZ7"
      },
      "source": [
        "Consider the road map in Figure 1. Manhattan has a lot of one-way streets. This implies that a good network model of traffic flow would probably have directed links. Consider a subgraph of this network with grid-like connectivity and all one-way streets (i.e. each node is a four-way intersection of two one-way streets). What is the most common in-degree of nodes in this subgraph? What is the most common out-degree?"
      ]
    },
    {
      "cell_type": "markdown",
      "metadata": {
        "id": "71j_C-55KIVC"
      },
      "source": [
        "Answer:"
      ]
    },
    {
      "cell_type": "markdown",
      "metadata": {
        "id": "6ajWuuasKLQ_"
      },
      "source": [
        "## Question 04"
      ]
    },
    {
      "cell_type": "markdown",
      "metadata": {
        "id": "ylQ51DMWKZxC"
      },
      "source": [
        "What network quantity can we use to represent the volume of traffic between each pair of adjacent intersections in the Manhattan road map (Figure 1)?"
      ]
    },
    {
      "cell_type": "markdown",
      "metadata": {
        "id": "oE9sJ1mWKcF0"
      },
      "source": [
        "Answer:"
      ]
    },
    {
      "cell_type": "markdown",
      "metadata": {
        "id": "udxnPkItKfX3"
      },
      "source": [
        "## Question 5"
      ]
    },
    {
      "cell_type": "markdown",
      "metadata": {
        "id": "fj7f0HL7KtOy"
      },
      "source": [
        "Consider a directed network of N nodes. Now consider the total in-degree (i.e. the sum of the in-degree over all nodes in the network). Compare this to the analogous total out-degree. Which of the following must hold true for any such network?\n",
        "\n",
        "1. Total in-degree must be less than total out-degree\n",
        "2. Total in-degree must be greater than total out-degree\n",
        "3. Total in-degree must be equal to total out-degree\n",
        "4. None of these hold true in all instances"
      ]
    },
    {
      "cell_type": "markdown",
      "metadata": {
        "id": "4P5ThuVNK3Ug"
      },
      "source": [
        "Answer:"
      ]
    },
    {
      "cell_type": "markdown",
      "metadata": {
        "id": "QPVskC76LUtF"
      },
      "source": [
        "## Question 6"
      ]
    },
    {
      "cell_type": "markdown",
      "metadata": {
        "id": "A1TqNt5nLZkU"
      },
      "source": [
        "Consider a Twitter retweet network, where users are nodes and we want to show how many times a given user has retweeted another user. What link type best captures this relation?\n",
        "1.   Undirected, unweighted\n",
        "2.   Undirected, weighted\n",
        "3.   Directed, unweighted\n",
        "4.   Directed, weighted"
      ]
    },
    {
      "cell_type": "markdown",
      "metadata": {
        "id": "yJNqiQJ5LkFy"
      },
      "source": [
        "Answer:3"
      ]
    },
    {
      "cell_type": "markdown",
      "metadata": {
        "id": "ZT5mLS7-Lsb2"
      },
      "source": [
        "## Question 7"
      ]
    },
    {
      "cell_type": "markdown",
      "metadata": {
        "id": "ofRy-TURMLix"
      },
      "source": [
        "Consider a hashtag co-occurrence graph from Twitter. In this network, hashtags are the nodes, and a link between two hashtags indicates how often those two hashtags appear in tweets together. What link type would best capture this relation?\n",
        "1.   Undirected, unweighted\n",
        "2.   Undirected, weighted\n",
        "3.   Directed, unweighted\n",
        "4.   Directed, weighted"
      ]
    },
    {
      "cell_type": "markdown",
      "metadata": {
        "id": "8H7AiKavMQsT"
      },
      "source": [
        "Answer:2"
      ]
    },
    {
      "cell_type": "markdown",
      "metadata": {
        "id": "4-bIhQwpMVs3"
      },
      "source": [
        "## Question 8"
      ]
    },
    {
      "cell_type": "markdown",
      "metadata": {
        "id": "9SVLykJ6M5lM"
      },
      "source": [
        "Consider a network created from characters in a story or play. The nodes are people, and a link exists between two nodes if those characters ever engage in dialogue. Which type of edge could represent this relation? Justify your answer.\n",
        "1.   Undirected, unweighted\n",
        "2.   Undirected, weighted\n",
        "3.   Directed, unweighted\n",
        "4.   Directed, weighted"
      ]
    },
    {
      "cell_type": "markdown",
      "metadata": {
        "id": "FnvkcRD-M8eq"
      },
      "source": [
        "Answer: 1, because there is no difference between the relations, turning this network in unweighted, and there is no direction, doesn't matter who started the conversions/relation, what matters is that there is a relation, which causes this network to be undirected."
      ]
    },
    {
      "cell_type": "markdown",
      "metadata": {
        "id": "S4Ga_yyYNBBo"
      },
      "source": [
        "## Question 9"
      ]
    },
    {
      "cell_type": "markdown",
      "metadata": {
        "id": "1_z4ApdLNa6a"
      },
      "source": [
        "Suppose we want to make a more complex version of a dialog network that captures how much each character speaks and to whom. What type of link would best represent this relation?\n",
        "1.   Undirected, unweighted\n",
        "2.   Undirected, weighted\n",
        "3.   Directed, unweighted\n",
        "4.   Directed, weighted"
      ]
    },
    {
      "cell_type": "markdown",
      "metadata": {
        "id": "urjFC0KTNefy"
      },
      "source": [
        "Answer:4"
      ]
    },
    {
      "cell_type": "markdown",
      "metadata": {
        "id": "hct-5tQwNg5_"
      },
      "source": [
        "## Question 10"
      ]
    },
    {
      "cell_type": "markdown",
      "metadata": {
        "id": "soJKH_N1Nnj3"
      },
      "source": [
        "Imagine that your social network has a subnetwork where you and 24 of your friends (25 people total) are all friends with each other. What is such a subnetwork called? And how many links are contained in the subnetwork?"
      ]
    },
    {
      "cell_type": "markdown",
      "metadata": {
        "id": "e8GcJrj1Npay"
      },
      "source": [
        "Answer: This would be an original unweighted network, with 300 links."
      ]
    },
    {
      "cell_type": "markdown",
      "metadata": {
        "id": "--K9oj5YNrjz"
      },
      "source": [
        "## Question 11"
      ]
    },
    {
      "cell_type": "markdown",
      "metadata": {
        "id": "DRFut7ovNz41"
      },
      "source": [
        "Consider an undirected network with N nodes. What is the maximum number of links this network can have?"
      ]
    },
    {
      "cell_type": "markdown",
      "metadata": {
        "id": "60iToMENN61m"
      },
      "source": [
        "Answer:The maximun number of links this network can have is N(N - 1)/2"
      ]
    },
    {
      "cell_type": "markdown",
      "metadata": {
        "id": "cER1jb6SN8NF"
      },
      "source": [
        "## Question 12"
      ]
    },
    {
      "cell_type": "markdown",
      "metadata": {
        "id": "PyyEb1GeOBK9"
      },
      "source": [
        "Consider a bipartite network of N nodes, $N_1$ nodes of type 1 and $N_2$ nodes of type 2 (so that $N_1 + $N_2 = N$). What is the maximum number of links in this network?"
      ]
    },
    {
      "cell_type": "markdown",
      "metadata": {
        "id": "6AoiES-AOJdB"
      },
      "source": [
        "Answer: The maximum number of links this network can have is N1 * N2 links "
      ]
    },
    {
      "cell_type": "markdown",
      "metadata": {
        "id": "RN4CfOSqOK_1"
      },
      "source": [
        "## Question 13"
      ]
    },
    {
      "cell_type": "markdown",
      "metadata": {
        "id": "9SGJKgblOO9g"
      },
      "source": [
        "Given a complete network A with N nodes, and a bipartite network B also with N nodes, which of the following holds true for any $N > 2$:\n",
        "1.   Network A has more links than network B\n",
        "2.   Network A has the same number of links as network B\n",
        "3.   Network A has fewer links than network B\n",
        "4.   None of these hold true for all such $N > 2$"
      ]
    },
    {
      "cell_type": "markdown",
      "metadata": {
        "id": "cwF6C1uLOiWr"
      },
      "source": [
        "Answer:1"
      ]
    },
    {
      "cell_type": "markdown",
      "metadata": {
        "id": "SKKotfslOluz"
      },
      "source": [
        "## Question 14\n",
        "\n"
      ]
    },
    {
      "cell_type": "markdown",
      "metadata": {
        "id": "GMh5WvjiPwzv"
      },
      "source": [
        "Consider this adjacency matrix:\n",
        "\n",
        "<center><img width=\"300\" src=\"https://drive.google.com/uc?export=view&id=1e4ANqX_kJCPhnVizvbK-ToBJgrZJpVde\"></center>\n",
        "\n",
        "An entry in the ith row and jth column indicates the weight of the link from node i to node j. For instance, the entry in the second row and third column is 2, meaning the weight of the link from node B to node C is 2. What kind of network does this matrix represent?\n",
        "1.   Undirected, unweighted\n",
        "2.   Undirected, weighted\n",
        "3.   Directed, unweighted\n",
        "4.   Directed, weighted\n"
      ]
    },
    {
      "cell_type": "markdown",
      "metadata": {
        "id": "UD5mRmSpRelN"
      },
      "source": [
        "Answer:4"
      ]
    },
    {
      "cell_type": "markdown",
      "metadata": {
        "id": "N92A04bZP6Uu"
      },
      "source": [
        "## Question 15"
      ]
    },
    {
      "cell_type": "markdown",
      "metadata": {
        "id": "MqTaMtfDRKY1"
      },
      "source": [
        "We have seen that Facebook’s network is incredibly sparse. Assume it has approximately 1 billion users, each with 1000 friends on average.\n",
        "\n",
        "1. Suppose Facebook releases its annual report and it shows that while the number of users in the network has stayed the same, the average number of friends per user has increased. Would this imply that the network density increased, decreased, or stayed the same?\n",
        "2. Suppose instead that both the number of users and the average number of friends per user doubled. Would this imply the network density increased, decreased, or stayed the same?\n",
        "\n"
      ]
    },
    {
      "cell_type": "markdown",
      "metadata": {
        "id": "tc14eV8jRXsu"
      },
      "source": [
        "Answer: 1- The density increased.\n",
        "        2- The density stayed the same."
      ]
    },
    {
      "cell_type": "markdown",
      "metadata": {
        "id": "hzp00QnjRgxU"
      },
      "source": [
        "## Question 16"
      ]
    },
    {
      "cell_type": "markdown",
      "metadata": {
        "id": "9O0ElA4FR1sR"
      },
      "source": [
        "Netflix keeps data on customer preferences using a big bipartite network connecting users to titles. Suppose that from 2013 to 2014 Netflix’s library has remained the same size, while the number of users has increased. Further suppose that the average user’s degree in this network has remained constant. Has the density of this network increased, decreased, or stayed the same?"
      ]
    },
    {
      "cell_type": "markdown",
      "metadata": {
        "id": "UdewP6VvR6VD"
      },
      "source": [
        "Answer: The density of this network increased."
      ]
    },
    {
      "cell_type": "markdown",
      "metadata": {
        "id": "3xO32cYISYkQ"
      },
      "source": [
        "# Exercise - Hands On (1,00 point for grade in Unit 01)"
      ]
    },
    {
      "cell_type": "markdown",
      "metadata": {
        "id": "-I9SonWrTIH-"
      },
      "source": [
        "Implementing all hands on using both [NetworkX](https://networkx.org/) and [Graph-Tool](https://graph-tool.skewed.de/) frameworks."
      ]
    },
    {
      "cell_type": "markdown",
      "metadata": {
        "id": "7if-CnFwSfPc"
      },
      "source": [
        "## Hands On 01"
      ]
    },
    {
      "cell_type": "markdown",
      "metadata": {
        "id": "SuO9vOYd9gFV"
      },
      "source": [
        "\n",
        "Often in the context of trees, a node with degree 1 is called a *leaf*. Write a function named `get_leaves` that takes a graph as an argument, loops through the nodes, and returns a list of nodes with degree 1."
      ]
    },
    {
      "cell_type": "markdown",
      "metadata": {
        "id": "rNMna_lLz3la"
      },
      "source": [
        "### Using networkx"
      ]
    },
    {
      "cell_type": "code",
      "metadata": {
        "scrolled": false,
        "id": "XxYyEWuTz3la"
      },
      "source": [
        "import networkx as nx"
      ],
      "execution_count": 25,
      "outputs": []
    },
    {
      "cell_type": "code",
      "metadata": {
        "id": "FlGKqf0MmgnB",
        "scrolled": true
      },
      "source": [
        "def get_leaves(G):\n",
        "    degree_1 = []\n",
        "    for node in G.nodes:\n",
        "        if G.degree(node) == 1:\n",
        "            degree_1.append(node)\n",
        "    return degree_1"
      ],
      "execution_count": 26,
      "outputs": []
    },
    {
      "cell_type": "code",
      "metadata": {
        "id": "mVBLr5_xmgnB",
        "scrolled": true
      },
      "source": [
        "# this block of code is only for networkx adapt it for graph-tool\n",
        "G = nx.Graph()\n",
        "G.add_edges_from([\n",
        "        ('a', 'b'),\n",
        "        ('a', 'd'),\n",
        "        ('c', 'd'),\n",
        "    ])\n",
        "assert set(get_leaves(G)) == {'c', 'b'}"
      ],
      "execution_count": 27,
      "outputs": []
    },
    {
      "cell_type": "markdown",
      "metadata": {
        "id": "CuKLGbLgz3lb"
      },
      "source": [
        "### Using graph_tool"
      ]
    },
    {
      "cell_type": "code",
      "metadata": {
        "colab": {
          "base_uri": "https://localhost:8080/"
        },
        "id": "0a81k_D4z3lb",
        "outputId": "6354bce4-611e-446b-af2b-2f7b6a27b725"
      },
      "source": [
        "!apt-get install libcairo2-dev \n",
        "!pip install pycairo"
      ],
      "execution_count": 28,
      "outputs": [
        {
          "output_type": "stream",
          "text": [
            "Reading package lists... Done\n",
            "Building dependency tree       \n",
            "Reading state information... Done\n",
            "libcairo2-dev is already the newest version (1.15.10-2ubuntu0.1).\n",
            "0 upgraded, 0 newly installed, 0 to remove and 97 not upgraded.\n",
            "Requirement already satisfied: pycairo in /usr/local/lib/python3.7/dist-packages (1.20.1)\n"
          ],
          "name": "stdout"
        }
      ]
    },
    {
      "cell_type": "code",
      "metadata": {
        "colab": {
          "base_uri": "https://localhost:8080/"
        },
        "id": "i8nmEystz3ld",
        "outputId": "24137da1-fd47-44ef-a05a-98736310fca6"
      },
      "source": [
        "!sudo echo \"deb http://downloads.skewed.de/apt bionic main\" >> /etc/apt/sources.list\n",
        "!sudo apt-key adv --keyserver keys.openpgp.org --recv-key 612DEFB798507F25\n",
        "!sudo apt-get update\n",
        "!sudo apt-get install python3-graph-tool python3-matplotlib"
      ],
      "execution_count": 29,
      "outputs": [
        {
          "output_type": "stream",
          "text": [
            "Executing: /tmp/apt-key-gpghome.CvMQEnuLVk/gpg.1.sh --keyserver keys.openpgp.org --recv-key 612DEFB798507F25\n",
            "gpg: key 612DEFB798507F25: \"Tiago de Paula Peixoto <tiago@skewed.de>\" not changed\n",
            "gpg: Total number processed: 1\n",
            "gpg:              unchanged: 1\n",
            "Ign:1 https://developer.download.nvidia.com/compute/cuda/repos/ubuntu1804/x86_64  InRelease\n",
            "Hit:2 http://security.ubuntu.com/ubuntu bionic-security InRelease\n",
            "Hit:3 https://cloud.r-project.org/bin/linux/ubuntu bionic-cran40/ InRelease\n",
            "Hit:4 http://ppa.launchpad.net/c2d4u.team/c2d4u4.0+/ubuntu bionic InRelease\n",
            "Hit:5 http://archive.ubuntu.com/ubuntu bionic InRelease\n",
            "Ign:6 https://developer.download.nvidia.com/compute/machine-learning/repos/ubuntu1804/x86_64  InRelease\n",
            "Hit:7 https://developer.download.nvidia.com/compute/cuda/repos/ubuntu1804/x86_64  Release\n",
            "Hit:8 https://developer.download.nvidia.com/compute/machine-learning/repos/ubuntu1804/x86_64  Release\n",
            "Hit:9 http://archive.ubuntu.com/ubuntu bionic-updates InRelease\n",
            "Hit:10 http://downloads.skewed.de/apt bionic InRelease\n",
            "Hit:11 http://archive.ubuntu.com/ubuntu bionic-backports InRelease\n",
            "Hit:12 http://ppa.launchpad.net/cran/libgit2/ubuntu bionic InRelease\n",
            "Hit:13 http://ppa.launchpad.net/deadsnakes/ppa/ubuntu bionic InRelease\n",
            "Hit:15 http://ppa.launchpad.net/graphics-drivers/ppa/ubuntu bionic InRelease\n",
            "Reading package lists... Done\n",
            "W: Target Packages (main/binary-amd64/Packages) is configured multiple times in /etc/apt/sources.list:51 and /etc/apt/sources.list:52\n",
            "W: Target Packages (main/binary-all/Packages) is configured multiple times in /etc/apt/sources.list:51 and /etc/apt/sources.list:52\n",
            "W: Target Packages (main/binary-amd64/Packages) is configured multiple times in /etc/apt/sources.list:51 and /etc/apt/sources.list:52\n",
            "W: Target Packages (main/binary-all/Packages) is configured multiple times in /etc/apt/sources.list:51 and /etc/apt/sources.list:52\n",
            "Reading package lists... Done\n",
            "Building dependency tree       \n",
            "Reading state information... Done\n",
            "python3-matplotlib is already the newest version (2.1.1-2ubuntu3).\n",
            "python3-graph-tool is already the newest version (2.42).\n",
            "0 upgraded, 0 newly installed, 0 to remove and 97 not upgraded.\n",
            "W: Target Packages (main/binary-amd64/Packages) is configured multiple times in /etc/apt/sources.list:51 and /etc/apt/sources.list:52\n",
            "W: Target Packages (main/binary-all/Packages) is configured multiple times in /etc/apt/sources.list:51 and /etc/apt/sources.list:52\n"
          ],
          "name": "stdout"
        }
      ]
    },
    {
      "cell_type": "code",
      "metadata": {
        "id": "Zo0D47II1eWv"
      },
      "source": [
        "import graph_tool as gt"
      ],
      "execution_count": 30,
      "outputs": []
    },
    {
      "cell_type": "code",
      "metadata": {
        "id": "US15K5931097"
      },
      "source": [
        "def get_leaves_2(G):\n",
        "  degree_1 = []\n",
        "\n",
        "  for node in g.vertices():\n",
        "    degree = g.get_total_degrees([node])[0]\n",
        "    if degree == 1:\n",
        "      degree_1.append(G.vp.name[node])\n",
        "  return degree_1"
      ],
      "execution_count": 31,
      "outputs": []
    },
    {
      "cell_type": "code",
      "metadata": {
        "id": "APpUZ1Y62XJG"
      },
      "source": [
        "g = gt.Graph(directed=False)\n",
        "\n",
        "# add two vertex to the graph\n",
        "v1 = g.add_vertex(n=1)\n",
        "v2 = g.add_vertex(n=1)\n",
        "v3 = g.add_vertex(n=1)\n",
        "v4 = g.add_vertex(n=1)\n",
        "\n",
        "#add the property to vertex object\n",
        "vprop = g.new_vertex_property(\"string\")\n",
        "\n",
        "#set the value to the vertex property\n",
        "vprop[v1] = \"a\" #here you set text to v1 property\n",
        "vprop[v2] = \"b\" #here you set text to v2 property\n",
        "vprop[v3] = \"c\" #here you set text to v1 property\n",
        "vprop[v4] = \"d\" #here you set text to v2 property\n",
        "\n",
        "\n",
        "#assign properties as a dic value\n",
        "g.vertex_properties[\"name\"]=vprop \n",
        "\n",
        "#add edge\n",
        "g.add_edge(v1,v2) #add an edge \n",
        "g.add_edge(v1,v4) #add an edge \n",
        "g.add_edge(v3,v4) #add an edge \n",
        "\n",
        "assert set(get_leaves_2(g)) == {'c', 'b'}"
      ],
      "execution_count": 32,
      "outputs": []
    },
    {
      "cell_type": "markdown",
      "metadata": {
        "id": "TcYdyCnEmgnD"
      },
      "source": [
        "## Hands On 02"
      ]
    },
    {
      "cell_type": "markdown",
      "metadata": {
        "id": "MsE6DTbI9m4t"
      },
      "source": [
        "\n",
        "Write a function max_degree that takes a graph as its argument, and returns a 2-tuple with the name and degree of the node with highest degree."
      ]
    },
    {
      "cell_type": "markdown",
      "metadata": {
        "id": "dYPBEof54vlz"
      },
      "source": [
        "### Importando o arquivo"
      ]
    },
    {
      "cell_type": "code",
      "metadata": {
        "colab": {
          "resources": {
            "http://localhost:8080/nbextensions/google.colab/files.js": {
              "data": "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",
              "ok": true,
              "headers": [
                [
                  "content-type",
                  "application/javascript"
                ]
              ],
              "status": 200,
              "status_text": ""
            }
          },
          "base_uri": "https://localhost:8080/",
          "height": 89
        },
        "id": "OTkaQ8hn4yWI",
        "outputId": "2159abf8-7227-4717-a150-11ebaded40c4"
      },
      "source": [
        "# The following code upload a file from your local file system\n",
        "from google.colab import files\n",
        "uploaded = files.upload()\n",
        "for fn in uploaded.keys():\n",
        "  print('User uploaded file \"{name}\" with length {length} bytes'.format(\n",
        "      name=fn, length=len(uploaded[fn])))"
      ],
      "execution_count": 22,
      "outputs": [
        {
          "output_type": "display_data",
          "data": {
            "text/html": [
              "\n",
              "     <input type=\"file\" id=\"files-b832b43e-f6e8-4a7a-aee6-b6fb094c52ce\" name=\"files[]\" multiple disabled\n",
              "        style=\"border:none\" />\n",
              "     <output id=\"result-b832b43e-f6e8-4a7a-aee6-b6fb094c52ce\">\n",
              "      Upload widget is only available when the cell has been executed in the\n",
              "      current browser session. Please rerun this cell to enable.\n",
              "      </output>\n",
              "      <script src=\"/nbextensions/google.colab/files.js\"></script> "
            ],
            "text/plain": [
              "<IPython.core.display.HTML object>"
            ]
          },
          "metadata": {
            "tags": []
          }
        },
        {
          "output_type": "stream",
          "text": [
            "Saving friends.adjlist to friends.adjlist\n",
            "User uploaded file \"friends.adjlist\" with length 117 bytes\n"
          ],
          "name": "stdout"
        }
      ]
    },
    {
      "cell_type": "markdown",
      "metadata": {
        "id": "09hSH4U_z3lf"
      },
      "source": [
        "### Using networkx"
      ]
    },
    {
      "cell_type": "code",
      "metadata": {
        "id": "DLufczZQmgnD",
        "scrolled": false
      },
      "source": [
        "def max_degree(G):\n",
        "    higher_degree = 0\n",
        "    higher_node = '0'\n",
        "    \n",
        "    for node in G.nodes:\n",
        "        if G.degree(node) > higher_degree:\n",
        "            higher_degree = G.degree(node)\n",
        "            higher_node = node\n",
        "    \n",
        "    return (higher_node, higher_degree)"
      ],
      "execution_count": 33,
      "outputs": []
    },
    {
      "cell_type": "code",
      "metadata": {
        "id": "aEQapPYNmgnD",
        "scrolled": true
      },
      "source": [
        "# this block of code is only for networkx adapt it for graph-tool\n",
        "SG = nx.read_adjlist('friends.adjlist')\n",
        "assert max_degree(SG) == ('Claire', 4)"
      ],
      "execution_count": 35,
      "outputs": []
    },
    {
      "cell_type": "markdown",
      "metadata": {
        "id": "MCDbNldnmgnD"
      },
      "source": [
        "## Hands on 03"
      ]
    },
    {
      "cell_type": "markdown",
      "metadata": {
        "id": "RWup3uDm9n5I"
      },
      "source": [
        "\n",
        "Write a function `mutual_friends` that takes a graph and two nodes as arguments, and returns a list (or set) of nodes that are linked to both given nodes. For example, in the graph `SG` drawn above,\n",
        "\n",
        "    mutual_friends(SG, 'Alice', 'Claire') == ['Frank']\n",
        "\n",
        "an empty list or set should be returned in the case where two nodes have no mutual friends, e.g. George and Bob in `SG` drawn above."
      ]
    },
    {
      "cell_type": "markdown",
      "metadata": {
        "id": "GsIs6vbpz3lg"
      },
      "source": [
        "### Using networkx"
      ]
    },
    {
      "cell_type": "code",
      "metadata": {
        "id": "hpnX9YeKmgnD",
        "scrolled": false
      },
      "source": [
        "def mutual_friends(G, node_1, node_2):\n",
        "    mutual = []\n",
        "    \n",
        "    for neighbor in G.neighbors(node_1):\n",
        "        if neighbor in G.neighbors(node_2):\n",
        "            mutual.append(neighbor)\n",
        "    \n",
        "    return mutual"
      ],
      "execution_count": null,
      "outputs": []
    },
    {
      "cell_type": "code",
      "metadata": {
        "id": "B2n0vCRYmgnE",
        "scrolled": false
      },
      "source": [
        "# this block of code is only for networkx adapt it for graph-tool\n",
        "SG = nx.read_adjlist('friends.adjlist')\n",
        "assert mutual_friends(SG, 'Alice', 'Claire') == ['Frank']\n",
        "assert mutual_friends(SG, 'George', 'Bob') == []\n",
        "assert sorted(mutual_friends(SG, 'Claire', 'George')) == ['Dennis', 'Frank']"
      ],
      "execution_count": null,
      "outputs": []
    },
    {
      "cell_type": "markdown",
      "metadata": {
        "id": "Ju-ReFKU5cAp"
      },
      "source": [
        "### Using graph_tool"
      ]
    }
  ]
}